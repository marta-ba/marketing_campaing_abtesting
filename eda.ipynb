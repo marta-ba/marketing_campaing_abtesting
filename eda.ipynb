{
 "cells": [
  {
   "cell_type": "code",
   "execution_count": null,
   "metadata": {},
   "outputs": [],
   "source": [
    "import pandas as pd\n",
    "import numpy as np\n",
    "import matplotlib.pyplot as plt\n",
    "import seaborn as sns\n",
    "import os\n",
    "from scipy import stats\n",
    "from src import soporte_abtesting as sa\n"
   ]
  },
  {
   "cell_type": "code",
   "execution_count": 4,
   "metadata": {},
   "outputs": [],
   "source": [
    "df = pd.read_csv('marketing_AB.csv')"
   ]
  },
  {
   "cell_type": "code",
   "execution_count": 20,
   "metadata": {},
   "outputs": [
    {
     "name": "stdout",
     "output_type": "stream",
     "text": [
      "<class 'pandas.core.frame.DataFrame'>\n",
      "RangeIndex: 588101 entries, 0 to 588100\n",
      "Data columns (total 6 columns):\n",
      " #   Column         Non-Null Count   Dtype \n",
      "---  ------         --------------   ----- \n",
      " 0   user id        588101 non-null  int64 \n",
      " 1   test group     588101 non-null  object\n",
      " 2   converted      588101 non-null  bool  \n",
      " 3   total ads      588101 non-null  int64 \n",
      " 4   most ads day   588101 non-null  object\n",
      " 5   most ads hour  588101 non-null  int64 \n",
      "dtypes: bool(1), int64(3), object(2)\n",
      "memory usage: 23.0+ MB\n"
     ]
    }
   ],
   "source": [
    "df.info()"
   ]
  },
  {
   "cell_type": "code",
   "execution_count": 19,
   "metadata": {},
   "outputs": [],
   "source": [
    "df = df.drop(columns=['Unnamed: 0'])"
   ]
  },
  {
   "cell_type": "code",
   "execution_count": null,
   "metadata": {},
   "outputs": [
    {
     "data": {
      "text/plain": [
       "test group        2\n",
       "converted         2\n",
       "most ads day      7\n",
       "most ads hour    24\n",
       "dtype: int64"
      ]
     },
     "execution_count": 8,
     "metadata": {},
     "output_type": "execute_result"
    }
   ],
   "source": [
    "# Check if the categorical variables have appropriate number of levels\n",
    "df_cat = df[['test group', 'converted', 'most ads day', 'most ads hour']]\n",
    "df_cat.nunique()"
   ]
  },
  {
   "cell_type": "code",
   "execution_count": 22,
   "metadata": {},
   "outputs": [
    {
     "data": {
      "text/html": [
       "<div>\n",
       "<style scoped>\n",
       "    .dataframe tbody tr th:only-of-type {\n",
       "        vertical-align: middle;\n",
       "    }\n",
       "\n",
       "    .dataframe tbody tr th {\n",
       "        vertical-align: top;\n",
       "    }\n",
       "\n",
       "    .dataframe thead th {\n",
       "        text-align: right;\n",
       "    }\n",
       "</style>\n",
       "<table border=\"1\" class=\"dataframe\">\n",
       "  <thead>\n",
       "    <tr style=\"text-align: right;\">\n",
       "      <th></th>\n",
       "      <th>user id</th>\n",
       "      <th>total ads</th>\n",
       "      <th>most ads hour</th>\n",
       "    </tr>\n",
       "  </thead>\n",
       "  <tbody>\n",
       "    <tr>\n",
       "      <th>count</th>\n",
       "      <td>5.881010e+05</td>\n",
       "      <td>588101.000000</td>\n",
       "      <td>588101.000000</td>\n",
       "    </tr>\n",
       "    <tr>\n",
       "      <th>mean</th>\n",
       "      <td>1.310692e+06</td>\n",
       "      <td>24.820876</td>\n",
       "      <td>14.469061</td>\n",
       "    </tr>\n",
       "    <tr>\n",
       "      <th>std</th>\n",
       "      <td>2.022260e+05</td>\n",
       "      <td>43.715181</td>\n",
       "      <td>4.834634</td>\n",
       "    </tr>\n",
       "    <tr>\n",
       "      <th>min</th>\n",
       "      <td>9.000000e+05</td>\n",
       "      <td>1.000000</td>\n",
       "      <td>0.000000</td>\n",
       "    </tr>\n",
       "    <tr>\n",
       "      <th>25%</th>\n",
       "      <td>1.143190e+06</td>\n",
       "      <td>4.000000</td>\n",
       "      <td>11.000000</td>\n",
       "    </tr>\n",
       "    <tr>\n",
       "      <th>50%</th>\n",
       "      <td>1.313725e+06</td>\n",
       "      <td>13.000000</td>\n",
       "      <td>14.000000</td>\n",
       "    </tr>\n",
       "    <tr>\n",
       "      <th>75%</th>\n",
       "      <td>1.484088e+06</td>\n",
       "      <td>27.000000</td>\n",
       "      <td>18.000000</td>\n",
       "    </tr>\n",
       "    <tr>\n",
       "      <th>max</th>\n",
       "      <td>1.654483e+06</td>\n",
       "      <td>2065.000000</td>\n",
       "      <td>23.000000</td>\n",
       "    </tr>\n",
       "  </tbody>\n",
       "</table>\n",
       "</div>"
      ],
      "text/plain": [
       "            user id      total ads  most ads hour\n",
       "count  5.881010e+05  588101.000000  588101.000000\n",
       "mean   1.310692e+06      24.820876      14.469061\n",
       "std    2.022260e+05      43.715181       4.834634\n",
       "min    9.000000e+05       1.000000       0.000000\n",
       "25%    1.143190e+06       4.000000      11.000000\n",
       "50%    1.313725e+06      13.000000      14.000000\n",
       "75%    1.484088e+06      27.000000      18.000000\n",
       "max    1.654483e+06    2065.000000      23.000000"
      ]
     },
     "execution_count": 22,
     "metadata": {},
     "output_type": "execute_result"
    }
   ],
   "source": [
    "df.describe()"
   ]
  },
  {
   "cell_type": "markdown",
   "metadata": {},
   "source": [
    "- Hay una gran dispersión de los datos en total ads"
   ]
  },
  {
   "cell_type": "code",
   "execution_count": 25,
   "metadata": {},
   "outputs": [
    {
     "data": {
      "text/plain": [
       "test group\n",
       "ad     564577\n",
       "psa     23524\n",
       "Name: count, dtype: int64"
      ]
     },
     "execution_count": 25,
     "metadata": {},
     "output_type": "execute_result"
    }
   ],
   "source": [
    "df['test group'].value_counts()"
   ]
  },
  {
   "cell_type": "markdown",
   "metadata": {},
   "source": [
    "- La muestra para el grupo de control (psa) y el grupo test (ad)  esta desbalanceada"
   ]
  },
  {
   "cell_type": "code",
   "execution_count": 27,
   "metadata": {},
   "outputs": [
    {
     "data": {
      "text/plain": [
       "most ads day\n",
       "Friday       92608\n",
       "Monday       87073\n",
       "Sunday       85391\n",
       "Thursday     82982\n",
       "Saturday     81660\n",
       "Wednesday    80908\n",
       "Tuesday      77479\n",
       "Name: count, dtype: int64"
      ]
     },
     "execution_count": 27,
     "metadata": {},
     "output_type": "execute_result"
    }
   ],
   "source": [
    "df['most ads day'].value_counts()"
   ]
  },
  {
   "cell_type": "code",
   "execution_count": 29,
   "metadata": {},
   "outputs": [
    {
     "name": "stdout",
     "output_type": "stream",
     "text": [
      "test group  converted\n",
      "ad          False        550154\n",
      "            True          14423\n",
      "psa         False         23104\n",
      "            True            420\n",
      "Name: count, dtype: int64\n"
     ]
    }
   ],
   "source": [
    "# Agrupa por 'test group' y cuenta los valores de 'converted'\n",
    "converted_by_group = df.groupby('test group')['converted'].value_counts()\n",
    "\n",
    "# Muestra el resultado\n",
    "print(converted_by_group)"
   ]
  },
  {
   "cell_type": "code",
   "execution_count": 30,
   "metadata": {},
   "outputs": [
    {
     "data": {
      "image/png": "[encoded data removed]",
      "text/plain": [
       "<Figure size 800x600 with 1 Axes>"
      ]
     },
     "metadata": {},
     "output_type": "display_data"
    }
   ],
   "source": [
    "# Agrupa por 'test group' y 'converted' y cuenta los valores\n",
    "converted_by_group = df.groupby(['test group', 'converted']).size().reset_index(name='count')\n",
    "\n",
    "# Crea el gráfico de barras\n",
    "plt.figure(figsize=(8, 6))\n",
    "sns.barplot(data=converted_by_group, x='test group', y='count', hue='converted')\n",
    "\n",
    "# Personaliza el gráfico\n",
    "plt.title('Converted según Test Group')\n",
    "plt.xlabel('Test Group')\n",
    "plt.ylabel('Cantidad')\n",
    "plt.legend(title='Converted')\n",
    "plt.show()"
   ]
  },
  {
   "cell_type": "markdown",
   "metadata": {},
   "source": [
    "## Interpretación del Problema\n",
    "\n",
    "    - Desequilibrio en los grupos: ad (564,577 usuarios) vs psa (23,524 usuarios).\n",
    "        - Esto implica que solo ~4% de los usuarios están en el grupo de control (psa), lo cual es un desbalanceo extremo.\n",
    "        - Riesgo: El A/B testing podría estar sesgado porque el grupo ad domina los resultados estadísticos.\n",
    "\n",
    "    - Outliers en total_ads: Algunos usuarios están expuestos a muchos más anuncios que otros (ej. 72 vs 2).\n",
    "        - Riesgo: La exposición desigual a anuncios puede confundir el efecto real del tratamiento (ad vs psa).\n",
    "\n"
   ]
  },
  {
   "cell_type": "markdown",
   "metadata": {},
   "source": [
    "### Step 1: Balanceo de la muestra para resolver el problema estructural."
   ]
  },
  {
   "cell_type": "code",
   "execution_count": 41,
   "metadata": {},
   "outputs": [
    {
     "data": {
      "text/plain": [
       "test group\n",
       "ad     23524\n",
       "psa    23524\n",
       "Name: count, dtype: int64"
      ]
     },
     "execution_count": 41,
     "metadata": {},
     "output_type": "execute_result"
    }
   ],
   "source": [
    "ad_sample = df[df['test group'] == 'ad'].sample(n=23524, random_state=42)\n",
    "balanced_df = pd.concat([ad_sample, df[df['test group'] == 'psa']])\n",
    "balanced_df['test group'].value_counts()"
   ]
  },
  {
   "cell_type": "code",
   "execution_count": 42,
   "metadata": {},
   "outputs": [],
   "source": [
    "balanced_df.to_csv('balanced_data.csv', index=False)"
   ]
  },
  {
   "cell_type": "markdown",
   "metadata": {},
   "source": [
    "## Outlier Detection\n",
    "Ahora que tenemos una muestra balanceada (balanced_df), el siguiente paso es identificar y manejar outliers. La columna más importante para analizar es total_ads (número total de anuncios vistos por usuario), ya que:\n",
    "\n",
    "    - Es una variable numérica continua.\n",
    "\n",
    "    - Tiene una gran dispersión..\n",
    "\n",
    "    - Puede afectar directamente a la métrica de conversión (converted)."
   ]
  },
  {
   "cell_type": "code",
   "execution_count": 13,
   "metadata": {},
   "outputs": [],
   "source": [
    "def filter_outliers(data, whisker=1.5):\n",
    "    \"\"\"\n",
    "    Identifies outliers in a dataset using the IQR method.\n",
    "\n",
    "    Parameters:\n",
    "        data (pd.Series): A pandas Series containing numerical data.\n",
    "        whisker (float): The multiplier for the interquartile range (IQR). Default is 1.5.\n",
    "\n",
    "    Returns:\n",
    "        pd.Series: A boolean Series where True indicates an outlier.\n",
    "    \"\"\"\n",
    "    # Calculate the first and third quartiles\n",
    "    Q1 = data.quantile(0.25)  # 25th percentile\n",
    "    Q3 = data.quantile(0.75)  # 75th percentile\n",
    "\n",
    "    # Compute the interquartile range (IQR)\n",
    "    IQR = Q3 - Q1\n",
    "\n",
    "    # Define the lower and upper bounds for non-outliers\n",
    "    lower_bound = Q1 - whisker * IQR\n",
    "    upper_bound = Q3 + whisker * IQR\n",
    "\n",
    "    # Identify outliers\n",
    "    is_outlier = data[(data < lower_bound) | (data > upper_bound)]\n",
    "\n",
    "    return is_outlier"
   ]
  },
  {
   "cell_type": "code",
   "execution_count": 43,
   "metadata": {},
   "outputs": [
    {
     "name": "stdout",
     "output_type": "stream",
     "text": [
      "Total number of outliers : 4286\n",
      "Total number of recors   : 588101\n",
      "Percentage of outliers   : 0.73%\n"
     ]
    }
   ],
   "source": [
    "outliers = filter_outliers(balanced_df['total ads'])\n",
    "print(f\"Total number of outliers : {len(outliers)}\")\n",
    "print(f\"Total number of recors   : {len(df)}\")\n",
    "print(f\"Percentage of outliers   : {len(outliers)/len(df)*100:.2f}%\")"
   ]
  },
  {
   "cell_type": "code",
   "execution_count": 45,
   "metadata": {},
   "outputs": [
    {
     "data": {
      "image/png": "[encoded data removed]",
      "text/plain": [
       "<Figure size 800x400 with 1 Axes>"
      ]
     },
     "metadata": {},
     "output_type": "display_data"
    }
   ],
   "source": [
    "# Boxplot de 'total_ads'\n",
    "plt.figure(figsize=(8, 4))\n",
    "plt.boxplot(balanced_df['total ads'], vert=False)\n",
    "plt.title(\"Boxplot de 'total ads' (antes de tratar outliers)\")\n",
    "plt.xlabel(\"Número de anuncios\")\n",
    "plt.show()"
   ]
  },
  {
   "cell_type": "code",
   "execution_count": 47,
   "metadata": {},
   "outputs": [
    {
     "data": {
      "image/png": "[encoded data removed]",
      "text/plain": [
       "<Figure size 640x480 with 1 Axes>"
      ]
     },
     "metadata": {},
     "output_type": "display_data"
    }
   ],
   "source": [
    "## relacion de outlyers con converted \n",
    "plt.scatter(balanced_df['total ads'], balanced_df['converted'], alpha=0.5)\n",
    "plt.xlabel('Total de anuncios')\n",
    "plt.ylabel('Convertido (1=Sí, 0=No)')\n",
    "plt.show()"
   ]
  },
  {
   "cell_type": "code",
   "execution_count": 49,
   "metadata": {},
   "outputs": [
    {
     "name": "stdout",
     "output_type": "stream",
     "text": [
      "test group\n",
      "psa    2196\n",
      "ad     2090\n",
      "Name: count, dtype: int64\n"
     ]
    }
   ],
   "source": [
    "## están los outlyers concentrados en un grupo ?\n",
    "outliers_group = balanced_df[balanced_df['total ads'].isin(outliers)]['test group'].value_counts()\n",
    "print(outliers_group)"
   ]
  },
  {
   "cell_type": "code",
   "execution_count": 58,
   "metadata": {},
   "outputs": [
    {
     "name": "stdout",
     "output_type": "stream",
     "text": [
      "Overall average ads seen : 24.75 ads\n",
      "Without outliers average ads seen : 14.81 ads\n",
      "Overal conversion rate: 2.25%\n",
      "Without outliers conversion rate: 1.22%\n"
     ]
    }
   ],
   "source": [
    "# Separate the dataframe into two groups\n",
    "outliers_balanced_df = balanced_df[balanced_df.index.isin(outliers.index)]\n",
    "no_outliers_balanced_df = balanced_df[~balanced_df.index.isin(outliers.index)]\n",
    "\n",
    "# Calculate avg seen ads with/without outliers\n",
    "mean_ads_overall = balanced_df['total ads'].mean()\n",
    "mean_ads_without_outliers = no_outliers_balanced_df['total ads'].mean()\n",
    "print(f\"Overall average ads seen : {mean_ads_overall:.2f} ads\")\n",
    "print(f\"Without outliers average ads seen : {mean_ads_without_outliers:.2f} ads\")\n",
    "\n",
    "# Calculate conversion rate with/without outliers\n",
    "conversion_overall = (balanced_df['converted'] == True).mean() * 100\n",
    "conversion_without_outliers = (no_outliers_balanced_df['converted'] == True).mean() * 100\n",
    "print(f'Overal conversion rate: {conversion_overall:.2f}%')\n",
    "print(f'Without outliers conversion rate: {conversion_without_outliers:.2f}%')"
   ]
  },
  {
   "cell_type": "code",
   "execution_count": 60,
   "metadata": {},
   "outputs": [
    {
     "name": "stderr",
     "output_type": "stream",
     "text": [
      "C:\\Users\\marta\\AppData\\Local\\Temp\\ipykernel_3980\\2391666502.py:25: FutureWarning: \n",
      "\n",
      "Passing `palette` without assigning `hue` is deprecated and will be removed in v0.14.0. Assign the `x` variable to `hue` and set `legend=False` for the same effect.\n",
      "\n",
      "  sns.barplot(data=ads_df, x='Category', y='Average Ads Seen', palette='Blues')\n",
      "C:\\Users\\marta\\AppData\\Local\\Temp\\ipykernel_3980\\2391666502.py:32: FutureWarning: \n",
      "\n",
      "Passing `palette` without assigning `hue` is deprecated and will be removed in v0.14.0. Assign the `x` variable to `hue` and set `legend=False` for the same effect.\n",
      "\n",
      "  sns.barplot(data=conversion_df, x='Category', y='Conversion Rate (%)', palette='Greens')\n"
     ]
    },
    {
     "data": {
      "image/png": "[encoded data removed]",
      "text/plain": [
       "<Figure size 1200x600 with 2 Axes>"
      ]
     },
     "metadata": {},
     "output_type": "display_data"
    }
   ],
   "source": [
    "import matplotlib.pyplot as plt\n",
    "import seaborn as sns\n",
    "\n",
    "# Datos para los promedios de anuncios vistos\n",
    "ads_data = {\n",
    "    'Category': ['Overall', 'Without Outliers'],\n",
    "    'Average Ads Seen': [mean_ads_overall, mean_ads_without_outliers]\n",
    "}\n",
    "\n",
    "# Datos para las tasas de conversión\n",
    "conversion_data = {\n",
    "    'Category': ['Overall', 'Without Outliers'],\n",
    "    'Conversion Rate (%)': [conversion_overall, conversion_without_outliers]\n",
    "}\n",
    "\n",
    "# Crear DataFrames para visualización\n",
    "ads_df = pd.DataFrame(ads_data)\n",
    "conversion_df = pd.DataFrame(conversion_data)\n",
    "\n",
    "# Configurar el tamaño de la figura\n",
    "plt.figure(figsize=(12, 6))\n",
    "\n",
    "# Gráfico de barras para los promedios de anuncios vistos\n",
    "plt.subplot(1, 2, 1)\n",
    "sns.barplot(data=ads_df, x='Category', y='Average Ads Seen', palette='Blues')\n",
    "plt.title('Promedio de Anuncios Vistos')\n",
    "plt.ylabel('Promedio de Anuncios')\n",
    "plt.xlabel('Categoría')\n",
    "\n",
    "# Gráfico de barras para las tasas de conversión\n",
    "plt.subplot(1, 2, 2)\n",
    "sns.barplot(data=conversion_df, x='Category', y='Conversion Rate (%)', palette='Greens')\n",
    "plt.title('Tasa de Conversión')\n",
    "plt.ylabel('Tasa de Conversión (%)')\n",
    "plt.xlabel('Categoría')\n",
    "\n",
    "# Mostrar los gráficos\n",
    "plt.tight_layout()\n",
    "plt.show()"
   ]
  },
  {
   "cell_type": "markdown",
   "metadata": {},
   "source": [
    "### **Gráfico 1: Promedio de Anuncios Vistos**\n",
    "- **Eje X (Categoría):** Muestra dos categorías: \n",
    "  - `Overall` (con todos los datos, incluidos los outliers).\n",
    "  - `Without Outliers` (sin los outliers).\n",
    "- **Eje Y (Promedio de Anuncios):** Representa el promedio de anuncios vistos en cada categoría.\n",
    "\n",
    "### **1. Comparación de Promedios**\n",
    "Promedio general de anuncios vistos (con outliers): 24.75\n",
    "Promedio sin outliers: 14.81\n",
    "\n",
    "Los outliers (valores extremadamente altos en total_ads) están inflando el promedio general.\n",
    "La diferencia es enorme: +67% (24.75 vs 14.81). Esto confirma que los outliers tienen un impacto significativo en la métrica.\n",
    "\n",
    "### **2. Tasa de Conversión**\n",
    "Tasa de conversión general (con outliers): 2.25%\n",
    "\n",
    "Tasa de conversión sin outliers: 1.22%\n",
    "\n",
    "Los outliers están sobreestimando la conversión real en un 84% (2.25% vs 1.22%).\n",
    "\n",
    "Esto sugiere que los usuarios con exposición extrema a anuncios (total_ads muy altos) están convirtiendo mucho más que el promedio, lo que distorsiona los resultados."
   ]
  },
  {
   "cell_type": "markdown",
   "metadata": {},
   "source": [
    "## Análisis de Causas\n",
    "\n",
    "- Usuarios hiperactivos: Algunos usuarios (ej. bots, empleados, o usuarios obsesivos) están expuestos a una cantidad anormal de anuncios y convierten más.\n",
    "\n",
    "- Esto podría ser un sesgo de selección: ¿Estos outliers son representativos de tu población real?\n",
    "\n",
    "- Causalidad inversa: ¿Los usuarios convierten porque ven muchos anuncios? ¿O ven muchos anuncios porque ya están interesados (y por eso convierten más)?"
   ]
  },
  {
   "cell_type": "markdown",
   "metadata": {},
   "source": [
    "## Definir Hipótesis\n",
    "\n",
    "Hipótesis nula (H₀): No hay diferencia en la tasa de conversión entre ad y psa.\n",
    "\n",
    "Hipótesis alternativa (H₁): El grupo ad tiene una tasa de conversión mayor."
   ]
  },
  {
   "cell_type": "markdown",
   "metadata": {},
   "source": [
    "## Análisis sin outliers"
   ]
  },
  {
   "cell_type": "code",
   "execution_count": null,
   "metadata": {},
   "outputs": [
    {
     "data": {
      "text/html": [
       "<div>\n",
       "<style scoped>\n",
       "    .dataframe tbody tr th:only-of-type {\n",
       "        vertical-align: middle;\n",
       "    }\n",
       "\n",
       "    .dataframe tbody tr th {\n",
       "        vertical-align: top;\n",
       "    }\n",
       "\n",
       "    .dataframe thead th {\n",
       "        text-align: right;\n",
       "    }\n",
       "</style>\n",
       "<table border=\"1\" class=\"dataframe\">\n",
       "  <thead>\n",
       "    <tr style=\"text-align: right;\">\n",
       "      <th></th>\n",
       "      <th>mean</th>\n",
       "      <th>std</th>\n",
       "    </tr>\n",
       "    <tr>\n",
       "      <th>test group</th>\n",
       "      <th></th>\n",
       "      <th></th>\n",
       "    </tr>\n",
       "  </thead>\n",
       "  <tbody>\n",
       "    <tr>\n",
       "      <th>ad</th>\n",
       "      <td>0.0138</td>\n",
       "      <td>0.1167</td>\n",
       "    </tr>\n",
       "    <tr>\n",
       "      <th>psa</th>\n",
       "      <td>0.0106</td>\n",
       "      <td>0.1024</td>\n",
       "    </tr>\n",
       "  </tbody>\n",
       "</table>\n",
       "</div>"
      ],
      "text/plain": [
       "              mean     std\n",
       "test group                \n",
       "ad          0.0138  0.1167\n",
       "psa         0.0106  0.1024"
      ]
     },
     "metadata": {},
     "output_type": "display_data"
    },
    {
     "data": {
      "image/png": "[encoded data removed]",
      "text/plain": [
       "<Figure size 640x480 with 1 Axes>"
      ]
     },
     "metadata": {},
     "output_type": "display_data"
    }
   ],
   "source": [
    "ratio_conversion = no_outliers_balanced_df.groupby('test group')['converted'].agg([\"mean\", \"std\"]).round(4)\n",
    "display(ratio_conversion)\n",
    "\n",
    "fig = sns.barplot(ratio_conversion, \n",
    "                  x = ratio_conversion.index, \n",
    "                  y = \"mean\") \n",
    "\n",
    "# ponemos las etiquetas en cada una de las barras\n",
    "fig.bar_label(fig.containers[0], fontsize=10)\n",
    "\n",
    "# eliminar los ejes de arriba y la derecha\n",
    "fig.spines['top'].set_visible(False)\n",
    "fig.spines['right'].set_visible(False)\n",
    "\n",
    "# ponemos título a la gráfica\n",
    "fig.set_title(\"Tasas de conversión para cada grupo\")\n",
    "\n",
    "# cambiamos el nombre del eje y\n",
    "fig.set_ylabel(\"Tasa de conversion\", fontsize = 8)\n",
    "\n",
    "# quitamos el nombre del eje x\n",
    "fig.set_xlabel(\"\");\n"
   ]
  },
  {
   "cell_type": "code",
   "execution_count": 71,
   "metadata": {},
   "outputs": [
    {
     "name": "stdout",
     "output_type": "stream",
     "text": [
      "test group\n",
      "ad     0.013810\n",
      "psa    0.010596\n",
      "Name: converted, dtype: float64\n",
      "Diferencia absoluta: 0.0032, Relativa: 30.33%\n"
     ]
    }
   ],
   "source": [
    "# Tasa de conversión por grupo\n",
    "conversion_rates = no_outliers_balanced_df.groupby('test group')['converted'].mean()\n",
    "print(conversion_rates)\n",
    "\n",
    "# Diferencia absoluta y relativa\n",
    "diff = conversion_rates['ad'] - conversion_rates['psa']\n",
    "rel_diff = diff / conversion_rates['psa']\n",
    "print(f\"Diferencia absoluta: {diff:.4f}, Relativa: {rel_diff:.2%}\")"
   ]
  },
  {
   "cell_type": "markdown",
   "metadata": {},
   "source": [
    "### Prueba Estadística\n",
    "\n",
    "Test de proporciones (Chi-cuadrado o Z-test)\n",
    "Ideal para comparar tasas de conversión binarias."
   ]
  },
  {
   "cell_type": "code",
   "execution_count": 74,
   "metadata": {},
   "outputs": [
    {
     "name": "stdout",
     "output_type": "stream",
     "text": [
      "p-value: 0.0025\n"
     ]
    }
   ],
   "source": [
    "# Preparar datos\n",
    "from statsmodels.stats.proportion import proportions_ztest\n",
    "counts = no_outliers_balanced_df.groupby('test group')['converted'].sum()\n",
    "nobs = no_outliers_balanced_df['test group'].value_counts()\n",
    "\n",
    "# Ejecutar test\n",
    "z_stat, p_value = proportions_ztest(counts, nobs)\n",
    "print(f\"p-value: {p_value:.4f}\")"
   ]
  },
  {
   "cell_type": "markdown",
   "metadata": {},
   "source": [
    "# Análisis con los outliers"
   ]
  },
  {
   "cell_type": "markdown",
   "metadata": {},
   "source": [
    "## Tasa de conversión"
   ]
  },
  {
   "cell_type": "code",
   "execution_count": 93,
   "metadata": {},
   "outputs": [
    {
     "data": {
      "text/html": [
       "<div>\n",
       "<style scoped>\n",
       "    .dataframe tbody tr th:only-of-type {\n",
       "        vertical-align: middle;\n",
       "    }\n",
       "\n",
       "    .dataframe tbody tr th {\n",
       "        vertical-align: top;\n",
       "    }\n",
       "\n",
       "    .dataframe thead th {\n",
       "        text-align: right;\n",
       "    }\n",
       "</style>\n",
       "<table border=\"1\" class=\"dataframe\">\n",
       "  <thead>\n",
       "    <tr style=\"text-align: right;\">\n",
       "      <th></th>\n",
       "      <th>mean</th>\n",
       "      <th>std</th>\n",
       "    </tr>\n",
       "    <tr>\n",
       "      <th>test group</th>\n",
       "      <th></th>\n",
       "      <th></th>\n",
       "    </tr>\n",
       "  </thead>\n",
       "  <tbody>\n",
       "    <tr>\n",
       "      <th>ad</th>\n",
       "      <td>0.1632</td>\n",
       "      <td>0.3696</td>\n",
       "    </tr>\n",
       "    <tr>\n",
       "      <th>psa</th>\n",
       "      <td>0.0883</td>\n",
       "      <td>0.2839</td>\n",
       "    </tr>\n",
       "  </tbody>\n",
       "</table>\n",
       "</div>"
      ],
      "text/plain": [
       "              mean     std\n",
       "test group                \n",
       "ad          0.1632  0.3696\n",
       "psa         0.0883  0.2839"
      ]
     },
     "metadata": {},
     "output_type": "display_data"
    },
    {
     "data": {
      "image/png": "[encoded data removed]",
      "text/plain": [
       "<Figure size 640x480 with 1 Axes>"
      ]
     },
     "metadata": {},
     "output_type": "display_data"
    }
   ],
   "source": [
    "ratio_conversion2 = outliers_balanced_df.groupby('test group')['converted'].agg([\"mean\", \"std\"]).round(4)\n",
    "display(ratio_conversion)\n",
    "\n",
    "fig = sns.barplot(ratio_conversion2, \n",
    "                  x = ratio_conversion2.index, \n",
    "                  y = \"mean\") \n",
    "\n",
    "# ponemos las etiquetas en cada una de las barras\n",
    "fig.bar_label(fig.containers[0], fontsize=10)\n",
    "\n",
    "# eliminar los ejes de arriba y la derecha\n",
    "fig.spines['top'].set_visible(False)\n",
    "fig.spines['right'].set_visible(False)\n",
    "\n",
    "# ponemos título a la gráfica\n",
    "fig.set_title(\"Tasas de conversión para cada grupo\")\n",
    "\n",
    "# cambiamos el nombre del eje y\n",
    "fig.set_ylabel(\"Tasa de conversion\", fontsize = 8)\n",
    "\n",
    "# quitamos el nombre del eje x\n",
    "fig.set_xlabel(\"\");"
   ]
  },
  {
   "cell_type": "code",
   "execution_count": 84,
   "metadata": {},
   "outputs": [
    {
     "name": "stdout",
     "output_type": "stream",
     "text": [
      "test group\n",
      "ad     0.163158\n",
      "psa    0.088342\n",
      "Name: converted, dtype: float64\n",
      "Diferencia absoluta: 0.0748, Relativa: 84.69%\n"
     ]
    }
   ],
   "source": [
    "# Tasa de conversión por grupo\n",
    "conversion_rates_outliers = outliers_balanced_df.groupby('test group')['converted'].mean()\n",
    "print(conversion_rates_outliers)\n",
    "\n",
    "# Diferencia absoluta y relativa\n",
    "diff = conversion_rates_outliers['ad'] - conversion_rates_outliers['psa']\n",
    "rel_diff = diff / conversion_rates_outliers['psa']\n",
    "print(f\"Diferencia absoluta: {diff:.4f}, Relativa: {rel_diff:.2%}\")"
   ]
  },
  {
   "cell_type": "code",
   "execution_count": 92,
   "metadata": {},
   "outputs": [
    {
     "data": {
      "text/plain": [
       "test group\n",
       "ad     21434\n",
       "psa    21328\n",
       "Name: count, dtype: int64"
      ]
     },
     "execution_count": 92,
     "metadata": {},
     "output_type": "execute_result"
    }
   ],
   "source": [
    "no_outliers_balanced_df['test group'].value_counts()"
   ]
  },
  {
   "cell_type": "code",
   "execution_count": 88,
   "metadata": {},
   "outputs": [
    {
     "data": {
      "text/plain": [
       "test group\n",
       "ad     23524\n",
       "psa    23524\n",
       "Name: count, dtype: int64"
      ]
     },
     "execution_count": 88,
     "metadata": {},
     "output_type": "execute_result"
    }
   ],
   "source": [
    "balanced_df['test group'].value_counts()"
   ]
  },
  {
   "cell_type": "code",
   "execution_count": 89,
   "metadata": {},
   "outputs": [
    {
     "data": {
      "text/plain": [
       "test group\n",
       "psa    2196\n",
       "ad     2090\n",
       "Name: count, dtype: int64"
      ]
     },
     "execution_count": 89,
     "metadata": {},
     "output_type": "execute_result"
    }
   ],
   "source": [
    "outliers_balanced_df['test group'].value_counts()"
   ]
  },
  {
   "cell_type": "markdown",
   "metadata": {},
   "source": [
    "## Prubea estadística con outliers"
   ]
  },
  {
   "cell_type": "code",
   "execution_count": 85,
   "metadata": {},
   "outputs": [
    {
     "name": "stdout",
     "output_type": "stream",
     "text": [
      "p-value: 0.0000\n"
     ]
    }
   ],
   "source": [
    "counts_out = outliers_balanced_df.groupby('test group')['converted'].sum()\n",
    "nobs_out = outliers_balanced_df['test group'].value_counts()\n",
    "\n",
    "# Ejecutar test\n",
    "z_stat, p_value = proportions_ztest(counts_out, nobs_out)\n",
    "print(f\"p-value: {p_value:.4f}\")"
   ]
  },
  {
   "cell_type": "markdown",
   "metadata": {},
   "source": [
    "# Conclusiones\n",
    "- Tanto con outliers comosin ellos se muestra una diferencia significativa en la captación de clientes en el grupo de testing, por lo que la campaña funciona."
   ]
  },
  {
   "cell_type": "markdown",
   "metadata": {},
   "source": [
    "# Tamaño muestral sin outliers\n"
   ]
  },
  {
   "cell_type": "code",
   "execution_count": 94,
   "metadata": {},
   "outputs": [
    {
     "name": "stdout",
     "output_type": "stream",
     "text": [
      "Tamaño muestral necesario por grupo: 18346\n"
     ]
    }
   ],
   "source": [
    "import statsmodels.stats.proportion as sms\n",
    "import math\n",
    "from statsmodels.stats.power import NormalIndPower\n",
    "import statsmodels.stats.api as sms\n",
    "\n",
    "# Tasas de conversión observadas en tus datos (sin outliers)\n",
    "p1 = 0.010596  # Grupo psa (control)\n",
    "p2 = 0.0138  # Grupo ad (tratamiento). Ajusta según lo que esperas.\n",
    "\n",
    "# 1. Calcula el tamaño del efecto (diferencia estandarizada)\n",
    "diferencia = sms.proportion_effectsize(p1, p2)  \n",
    "\n",
    "# 2. Calcula el tamaño muestral requerido\n",
    "tamaño_muestral = sms.NormalIndPower().solve_power(\n",
    "    diferencia,\n",
    "    power=0.8,    # Potencia deseada (80%)\n",
    "    alpha=0.05,   # Nivel de significancia (5%)\n",
    "    ratio=1       # Mismo tamaño para ambos grupos\n",
    ")\n",
    "\n",
    "print(f'Tamaño muestral necesario por grupo: {math.ceil(tamaño_muestral)}')"
   ]
  },
  {
   "cell_type": "markdown",
   "metadata": {},
   "source": [
    "El tamaño muestral requerido es mayor que tu dataset actual:\n",
    "\n",
    "Opción 1: Recolectar más datos.\n",
    "\n",
    "Opción 2: Ajustar expectativas (ej. aceptar un efecto más pequeño o menor potencia)."
   ]
  },
  {
   "cell_type": "markdown",
   "metadata": {},
   "source": [
    "# Tamaño muestral de los outliers"
   ]
  },
  {
   "cell_type": "code",
   "execution_count": 95,
   "metadata": {},
   "outputs": [
    {
     "name": "stdout",
     "output_type": "stream",
     "text": [
      "Tamaño muestral necesario por grupo: 302\n"
     ]
    }
   ],
   "source": [
    "# Tasas de conversión observadas en tus datos (con outliers)\n",
    "p1 = 0.08834  # Grupo psa (control)\n",
    "p2 = 0.163158  # Grupo ad (tratamiento). Ajusta según lo que esperas.\n",
    "\n",
    "# 1. Calcula el tamaño del efecto (diferencia estandarizada)\n",
    "diferencia = sms.proportion_effectsize(p1, p2)  \n",
    "\n",
    "# 2. Calcula el tamaño muestral requerido\n",
    "tamaño_muestral = sms.NormalIndPower().solve_power(\n",
    "    diferencia,\n",
    "    power=0.8,    # Potencia deseada (80%)\n",
    "    alpha=0.05,   # Nivel de significancia (5%)\n",
    "    ratio=1       # Mismo tamaño para ambos grupos\n",
    ")\n",
    "\n",
    "print(f'Tamaño muestral necesario por grupo: {math.ceil(tamaño_muestral)}')"
   ]
  },
  {
   "cell_type": "markdown",
   "metadata": {},
   "source": []
  },
  {
   "cell_type": "markdown",
   "metadata": {},
   "source": []
  }
 ],
 "metadata": {
  "kernelspec": {
   "display_name": "prueba2",
   "language": "python",
   "name": "python3"
  },
  "language_info": {
   "codemirror_mode": {
    "name": "ipython",
    "version": 3
   },
   "file_extension": ".py",
   "mimetype": "text/x-python",
   "name": "python",
   "nbconvert_exporter": "python",
   "pygments_lexer": "ipython3",
   "version": "3.10.14"
  }
 },
 "nbformat": 4,
 "nbformat_minor": 2
}
